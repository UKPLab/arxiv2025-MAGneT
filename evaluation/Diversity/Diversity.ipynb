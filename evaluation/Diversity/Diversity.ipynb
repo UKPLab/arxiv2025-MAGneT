{
 "cells": [
  {
   "cell_type": "code",
   "execution_count": null,
   "id": "b74f98f3-e50e-463e-a7b9-8d06ffc1fa2c",
   "metadata": {},
   "outputs": [],
   "source": [
    "import os\n",
    "import json\n",
    "import re\n",
    "from nltk.corpus import stopwords\n",
    "from nltk.tokenize import word_tokenize\n",
    "import os\n",
    "import json\n",
    "from transformers import AutoTokenizer"
   ]
  },
  {
   "cell_type": "code",
   "execution_count": 2,
   "id": "24de931a-c0b1-434c-9ee8-a8f46e85a5d9",
   "metadata": {},
   "outputs": [],
   "source": [
    "def generate_history(history):\n",
    "    history_text = '\\n'.join(\n",
    "            [\n",
    "                f\"{message['message']}\"\n",
    "                for message in history\n",
    "            ]\n",
    "    )\n",
    "    return history_text"
   ]
  },
  {
   "cell_type": "code",
   "execution_count": null,
   "id": "d21f0da1-25fe-4311-805c-fae0eb284bac",
   "metadata": {},
   "outputs": [],
   "source": [
    "folder_path = 'path_to_input_directory'"
   ]
  },
  {
   "cell_type": "code",
   "execution_count": null,
   "id": "39005211-86c4-47fa-9ffb-8be2421b61a2",
   "metadata": {},
   "outputs": [],
   "source": [
    "encoding = AutoTokenizer.from_pretrained(\"path_to_model\", use_fast=True)"
   ]
  },
  {
   "cell_type": "code",
   "execution_count": 6,
   "id": "08c3519a-d29b-4be6-84b8-9a0602e4cce2",
   "metadata": {},
   "outputs": [],
   "source": [
    "vocab_size = encoding.vocab_size"
   ]
  },
  {
   "cell_type": "code",
   "execution_count": 7,
   "id": "37a57421-266c-4061-a89a-124c93850ef7",
   "metadata": {},
   "outputs": [],
   "source": [
    "trigram = []\n",
    "bigram = []\n",
    "unigram = []"
   ]
  },
  {
   "cell_type": "code",
   "execution_count": 8,
   "id": "781fcb61-aa26-4b57-9288-e5d680848120",
   "metadata": {},
   "outputs": [],
   "source": [
    "def remove_unwanted(document):\n",
    "\n",
    "    # remove user mentions\n",
    "    document = re.sub(\"@[A-Za-z0-9_]+\",\" \", document)\n",
    "    # remove URLS\n",
    "    document = re.sub(r'http\\S+', ' ', document)\n",
    "    # remove hashtags\n",
    "    document = re.sub(\"#[A-Za-z0-9_]+\",\"\", document)\n",
    "    # remove punctuation\n",
    "    document = re.sub(\"[^0-9A-Za-z ]\", \"\" , document)\n",
    "    # remove double spaces\n",
    "    document = document.replace('  ',\" \")\n",
    "    \n",
    "    return document.strip()"
   ]
  },
  {
   "cell_type": "code",
   "execution_count": 9,
   "id": "1b694638-1297-4336-ae36-26cb4e9b9451",
   "metadata": {},
   "outputs": [],
   "source": [
    "for filename in os.listdir(folder_path):\n",
    "    if filename.endswith('.json'):\n",
    "        file_path = os.path.join(folder_path, filename)\n",
    "        with open(file_path, 'r', encoding='utf-8') as f:\n",
    "            json_data = json.load(f)\n",
    "        conv_str = generate_history(json_data[\"history\"])\n",
    "        conv_mod = remove_unwanted(conv_str)\n",
    "        conv_tok = encoding.encode(conv_mod)\n",
    "        conv_trigram = [(conv_tok[i], conv_tok[i + 1], conv_tok[i + 2])\n",
    "           for i in range(len(conv_tok) - 2)]\n",
    "        conv_bigram = [(conv_tok[i], conv_tok[i + 1])\n",
    "           for i in range(len(conv_tok) - 1)]\n",
    "        conv_unigram = [(conv_tok[i])\n",
    "           for i in range(len(conv_tok))]\n",
    "        \n",
    "        trigram = trigram + conv_trigram\n",
    "        bigram = bigram + conv_bigram\n",
    "        unigram = unigram + conv_unigram"
   ]
  },
  {
   "cell_type": "code",
   "execution_count": null,
   "id": "0054e125-abaf-4058-a62a-1c9a5097eaa2",
   "metadata": {},
   "outputs": [],
   "source": [
    "len(trigram)"
   ]
  },
  {
   "cell_type": "code",
   "execution_count": 11,
   "id": "25fe94a3-2ed6-459e-af39-ed9e8b02daff",
   "metadata": {},
   "outputs": [],
   "source": [
    "dist_3 = len(set(trigram))/len(trigram)"
   ]
  },
  {
   "cell_type": "code",
   "execution_count": null,
   "id": "8ffb582c-d942-4c02-a0bd-4926d5b46a57",
   "metadata": {},
   "outputs": [],
   "source": [
    "dist_3"
   ]
  },
  {
   "cell_type": "code",
   "execution_count": 13,
   "id": "fecf13af-114f-4598-8326-1cc671905ec8",
   "metadata": {},
   "outputs": [],
   "source": [
    "dist_2 = len(set(bigram))/len(bigram)"
   ]
  },
  {
   "cell_type": "code",
   "execution_count": null,
   "id": "6921fbbb-d549-472e-8684-44b74e172111",
   "metadata": {},
   "outputs": [],
   "source": [
    "dist_2"
   ]
  },
  {
   "cell_type": "code",
   "execution_count": null,
   "id": "61730ee3-1557-4cd1-92fe-dad66e747e87",
   "metadata": {},
   "outputs": [],
   "source": [
    "len(bigram)"
   ]
  },
  {
   "cell_type": "code",
   "execution_count": 16,
   "id": "2421db93-0afb-4844-b7f7-3ccfd0629a01",
   "metadata": {},
   "outputs": [],
   "source": [
    "dist_1 = len(set(unigram))/len(unigram)"
   ]
  },
  {
   "cell_type": "code",
   "execution_count": null,
   "id": "c8e6ef68-b0de-4191-9491-a5040da6e7b0",
   "metadata": {},
   "outputs": [],
   "source": [
    "dist_1"
   ]
  },
  {
   "cell_type": "code",
   "execution_count": null,
   "id": "3532d1fc-39ac-4465-85cf-5ba8044ba2d0",
   "metadata": {},
   "outputs": [],
   "source": [
    "len(unigram)"
   ]
  },
  {
   "cell_type": "code",
   "execution_count": 19,
   "id": "23522d4d-c465-46c2-8ffa-d8296fed0a13",
   "metadata": {},
   "outputs": [],
   "source": [
    "ead = len(set(unigram))/(vocab_size*(1-((vocab_size-1)/vocab_size)**len(unigram)))"
   ]
  },
  {
   "cell_type": "code",
   "execution_count": null,
   "id": "6a09a405-1c86-40c9-8874-ba45aabf99ef",
   "metadata": {},
   "outputs": [],
   "source": [
    "ead"
   ]
  }
 ],
 "metadata": {
  "kernelspec": {
   "display_name": "Python 3 (ipykernel)",
   "language": "python",
   "name": "python3"
  },
  "language_info": {
   "codemirror_mode": {
    "name": "ipython",
    "version": 3
   },
   "file_extension": ".py",
   "mimetype": "text/x-python",
   "name": "python",
   "nbconvert_exporter": "python",
   "pygments_lexer": "ipython3",
   "version": "3.10.16"
  }
 },
 "nbformat": 4,
 "nbformat_minor": 5
}
