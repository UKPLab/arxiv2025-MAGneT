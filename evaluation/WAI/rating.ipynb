{
 "cells": [
  {
   "cell_type": "code",
   "execution_count": 1,
   "id": "041d44cf-3587-4eee-abc4-74ebc84820c9",
   "metadata": {},
   "outputs": [],
   "source": [
    "import json\n",
    "import os"
   ]
  },
  {
   "cell_type": "code",
   "execution_count": null,
   "id": "8095a7d9-d741-4f3a-a88d-298d39ae0d02",
   "metadata": {},
   "outputs": [],
   "source": [
    "folder_path = 'path_to_output_directory'"
   ]
  },
  {
   "cell_type": "code",
   "execution_count": null,
   "id": "6152d632-6a79-4e35-b776-0dab5e320b49",
   "metadata": {},
   "outputs": [],
   "source": [
    "for j in range(12):\n",
    "    total_rating = 0\n",
    "    count = 0\n",
    "    for filename in os.listdir(folder_path):\n",
    "        if filename.endswith('.json'):\n",
    "            file_path = os.path.join(folder_path, filename)\n",
    "            with open(file_path, 'r', encoding='utf-8') as f:\n",
    "                json_data = json.load(f)\n",
    "            total_rating = total_rating + json_data[\"wai\"+str(j+1)]\n",
    "            count = count + 1\n",
    "    avg_rating = total_rating/count\n",
    "    print(\"wai\" + str(j+1) + \":\")\n",
    "    print(avg_rating)"
   ]
  }
 ],
 "metadata": {
  "kernelspec": {
   "display_name": "Python 3 (ipykernel)",
   "language": "python",
   "name": "python3"
  },
  "language_info": {
   "codemirror_mode": {
    "name": "ipython",
    "version": 3
   },
   "file_extension": ".py",
   "mimetype": "text/x-python",
   "name": "python",
   "nbconvert_exporter": "python",
   "pygments_lexer": "ipython3",
   "version": "3.10.16"
  }
 },
 "nbformat": 4,
 "nbformat_minor": 5
}
