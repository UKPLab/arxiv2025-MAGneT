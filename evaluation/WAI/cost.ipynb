{
 "cells": [
  {
   "cell_type": "code",
   "execution_count": 1,
   "id": "4b29e701-8850-4cd5-be2f-a0d7a8182166",
   "metadata": {},
   "outputs": [],
   "source": [
    "import json\n",
    "import os"
   ]
  },
  {
   "cell_type": "code",
   "execution_count": null,
   "id": "d9ca03eb-25b8-4045-a705-a1ce2a53fce0",
   "metadata": {},
   "outputs": [],
   "source": [
    "folder_path = 'path_to_output_directory'"
   ]
  },
  {
   "cell_type": "code",
   "execution_count": 3,
   "id": "43e96398-8edb-474c-91ac-32ca3877890a",
   "metadata": {},
   "outputs": [],
   "source": [
    "total_cost = 0"
   ]
  },
  {
   "cell_type": "code",
   "execution_count": 4,
   "id": "1b261000-7696-479d-9d85-bae56071e505",
   "metadata": {},
   "outputs": [],
   "source": [
    "for filename in os.listdir(folder_path):\n",
    "    if filename.endswith('.json'):\n",
    "        file_path = os.path.join(folder_path, filename)\n",
    "        with open(file_path, 'r', encoding='utf-8') as f:\n",
    "            json_data = json.load(f)\n",
    "        total_cost = total_cost + json_data[\"cost\"]"
   ]
  },
  {
   "cell_type": "code",
   "execution_count": null,
   "id": "38a0877f-f95a-405c-a634-30b3427d7ccf",
   "metadata": {},
   "outputs": [],
   "source": [
    "print(total_cost)"
   ]
  }
 ],
 "metadata": {
  "kernelspec": {
   "display_name": "Python 3 (ipykernel)",
   "language": "python",
   "name": "python3"
  },
  "language_info": {
   "codemirror_mode": {
    "name": "ipython",
    "version": 3
   },
   "file_extension": ".py",
   "mimetype": "text/x-python",
   "name": "python",
   "nbconvert_exporter": "python",
   "pygments_lexer": "ipython3",
   "version": "3.10.16"
  }
 },
 "nbformat": 4,
 "nbformat_minor": 5
}
