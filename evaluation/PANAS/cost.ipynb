{
 "cells": [
  {
   "cell_type": "code",
   "execution_count": 1,
   "id": "d8a033ad-0e0f-4d7d-9abe-c1be6cbe05fa",
   "metadata": {},
   "outputs": [],
   "source": [
    "import json\n",
    "import os"
   ]
  },
  {
   "cell_type": "code",
   "execution_count": null,
   "id": "6c998d23-03da-4aef-95c7-6d03c84dad24",
   "metadata": {},
   "outputs": [],
   "source": [
    "folder_path = 'path_to_output_directory'"
   ]
  },
  {
   "cell_type": "code",
   "execution_count": 3,
   "id": "26ccf8ad-d19f-4113-8ae4-64495c3d70c0",
   "metadata": {},
   "outputs": [],
   "source": [
    "total_cost = 0"
   ]
  },
  {
   "cell_type": "code",
   "execution_count": 4,
   "id": "cbd10c00-5bb7-4570-ab6a-f4615b725405",
   "metadata": {},
   "outputs": [],
   "source": [
    "for filename in os.listdir(folder_path):\n",
    "    if filename.endswith('.json'):\n",
    "        file_path = os.path.join(folder_path, filename)\n",
    "        with open(file_path, 'r', encoding='utf-8') as f:\n",
    "            json_data = json.load(f)\n",
    "        total_cost = total_cost + json_data[\"cost\"]"
   ]
  },
  {
   "cell_type": "code",
   "execution_count": null,
   "id": "c708df99-cf65-44d6-b038-6e50b380c40a",
   "metadata": {},
   "outputs": [],
   "source": [
    "total_cost"
   ]
  }
 ],
 "metadata": {
  "kernelspec": {
   "display_name": "Python 3 (ipykernel)",
   "language": "python",
   "name": "python3"
  },
  "language_info": {
   "codemirror_mode": {
    "name": "ipython",
    "version": 3
   },
   "file_extension": ".py",
   "mimetype": "text/x-python",
   "name": "python",
   "nbconvert_exporter": "python",
   "pygments_lexer": "ipython3",
   "version": "3.10.16"
  }
 },
 "nbformat": 4,
 "nbformat_minor": 5
}
