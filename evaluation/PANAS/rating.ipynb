{
 "cells": [
  {
   "cell_type": "code",
   "execution_count": 1,
   "id": "2c110620-eba8-4167-adab-eb84b052c4a4",
   "metadata": {},
   "outputs": [],
   "source": [
    "import json\n",
    "import os\n",
    "import re"
   ]
  },
  {
   "cell_type": "code",
   "execution_count": null,
   "id": "62433e42-af03-489f-a16f-3a193c571022",
   "metadata": {},
   "outputs": [],
   "source": [
    "folder_path_before = 'Path_to_output_directory_panas_before'\n",
    "folder_path_after = 'Path_to_output_directory_panas_after'"
   ]
  },
  {
   "cell_type": "code",
   "execution_count": 3,
   "id": "80d60b3a-03a7-4150-ac66-b2d622497a81",
   "metadata": {},
   "outputs": [],
   "source": [
    "feelings = ['interested', 'excited', 'strong', 'enthusiastic', 'proud', 'alert', 'inspired', 'determined', 'attentive', 'active', 'distressed', 'upset', 'guilty', 'scared', 'hostile', 'irritable', 'ashamed', 'nervous', 'jittery', 'afraid']"
   ]
  },
  {
   "cell_type": "code",
   "execution_count": 4,
   "id": "ac3539d4-9b5e-47ac-99f0-a7e54e9d73f7",
   "metadata": {},
   "outputs": [],
   "source": [
    "attitudes = ['positive','neutral','negative']"
   ]
  },
  {
   "cell_type": "code",
   "execution_count": 5,
   "id": "80a20b4c-6df3-4cac-b8fa-a0eb2167860f",
   "metadata": {},
   "outputs": [],
   "source": [
    "avg_score_dict_before = {}\n",
    "avg_score_dict_after = {}"
   ]
  },
  {
   "cell_type": "code",
   "execution_count": 6,
   "id": "4bb5ecff-ccb1-428a-8f08-0eef67dd4bd5",
   "metadata": {},
   "outputs": [],
   "source": [
    "for attitude in attitudes:\n",
    "    avg_score_dict_before[attitude] = {}\n",
    "    avg_score_dict_after[attitude] = {}"
   ]
  },
  {
   "cell_type": "code",
   "execution_count": 7,
   "id": "059d0f0e-b506-4d22-a9ee-031caffb9561",
   "metadata": {},
   "outputs": [],
   "source": [
    "count = {}\n",
    "total_rating_before = {}\n",
    "total_rating_after = {}"
   ]
  },
  {
   "cell_type": "code",
   "execution_count": null,
   "id": "eb5b68b1-9587-47d6-8ae0-af87bfec4856",
   "metadata": {
    "scrolled": true
   },
   "outputs": [],
   "source": [
    "for j in range(len(feelings)):\n",
    "    for attitude in attitudes:\n",
    "        total_rating_before[attitude] = 0\n",
    "        total_rating_after[attitude] = 0\n",
    "        count[attitude] = 0\n",
    "    for filename in os.listdir(folder_path_after):\n",
    "        if filename.endswith('.json'):\n",
    "            match = re.search(r'\\d+', filename)\n",
    "            file_path_before = os.path.join(folder_path_before, filename)\n",
    "            file_path_after = os.path.join(folder_path_after, filename)\n",
    "            with open(file_path_before, 'r', encoding='utf-8') as f_before:\n",
    "                json_data_before = json.load(f_before)\n",
    "            with open(file_path_after, 'r', encoding='utf-8') as f_after:\n",
    "                json_data_after = json.load(f_after)\n",
    "            total_rating_before[json_data_before['attitude']] = total_rating_before[json_data_before['attitude']] + json_data_before[feelings[j]][0]\n",
    "            total_rating_after[json_data_before['attitude']] = total_rating_after[json_data_before['attitude']] + json_data_after[feelings[j]][0]\n",
    "            count[json_data_before['attitude']] = count[json_data_before['attitude']] + 1\n",
    "    for attitude in attitudes:\n",
    "        avg_rating_before = total_rating_before[attitude]/count[attitude]\n",
    "        avg_score_dict_before[attitude][feelings[j]] = avg_rating_before\n",
    "        avg_rating_after = total_rating_after[attitude]/count[attitude]\n",
    "        avg_score_dict_after[attitude][feelings[j]] = avg_rating_after"
   ]
  },
  {
   "cell_type": "code",
   "execution_count": 9,
   "id": "8af14eca-3ed8-4d8b-9b9b-16ca35e345d8",
   "metadata": {},
   "outputs": [],
   "source": [
    "positive = ['interested', 'excited', 'strong', 'enthusiastic', 'proud', 'alert', 'inspired', 'determined', 'attentive', 'active']\n",
    "negative = ['distressed', 'upset', 'guilty', 'scared', 'hostile', 'irritable', 'ashamed', 'nervous', 'jittery', 'afraid']"
   ]
  },
  {
   "cell_type": "code",
   "execution_count": 10,
   "id": "0e290dcd-7176-4f28-b35c-df3ff4fef48f",
   "metadata": {},
   "outputs": [],
   "source": [
    "total_positive_score_before = {}\n",
    "total_positive_score_after = {}\n",
    "total_negative_score_before = {}\n",
    "total_negative_score_after = {}\n",
    "for attitude in attitudes:\n",
    "    total_positive_score_before[attitude] = 0\n",
    "    total_positive_score_after[attitude] = 0\n",
    "    total_negative_score_before[attitude] = 0\n",
    "    total_negative_score_after[attitude] = 0"
   ]
  },
  {
   "cell_type": "code",
   "execution_count": 11,
   "id": "86b3d901-bfff-4fa9-95d6-3c255d0db69f",
   "metadata": {},
   "outputs": [],
   "source": [
    "for feeling in feelings:\n",
    "    for attitude in attitudes:\n",
    "        if feeling in positive:\n",
    "            total_positive_score_before[attitude] = total_positive_score_before[attitude] + avg_score_dict_before[attitude][feeling]\n",
    "            total_positive_score_after[attitude] = total_positive_score_after[attitude] + avg_score_dict_after[attitude][feeling]\n",
    "        elif feeling in negative:\n",
    "            total_negative_score_before[attitude] = total_negative_score_before[attitude] + avg_score_dict_before[attitude][feeling]\n",
    "            total_negative_score_after[attitude] = total_negative_score_after[attitude] + avg_score_dict_after[attitude][feeling]"
   ]
  },
  {
   "cell_type": "code",
   "execution_count": 12,
   "id": "2dc1cc9c-000e-4ad8-84fa-03ac981b745e",
   "metadata": {},
   "outputs": [],
   "source": [
    "positive_score = {}\n",
    "negative_score = {}\n",
    "for attitude in attitudes:\n",
    "    positive_score[attitude] = 0\n",
    "    negative_score[attitude] = 0 "
   ]
  },
  {
   "cell_type": "code",
   "execution_count": 13,
   "id": "c1109426-0fc8-44c5-967d-4266c739b7da",
   "metadata": {},
   "outputs": [],
   "source": [
    "for attitude in attitudes:\n",
    "    positive_score[attitude] = (total_positive_score_after[attitude]-total_positive_score_before[attitude])/10"
   ]
  },
  {
   "cell_type": "code",
   "execution_count": null,
   "id": "4a29da70-67ff-490c-8850-8a6a8ffe1eb8",
   "metadata": {},
   "outputs": [],
   "source": [
    "print(positive_score)"
   ]
  },
  {
   "cell_type": "code",
   "execution_count": 15,
   "id": "1aeadca6-209f-41b4-8071-70deabdd0565",
   "metadata": {},
   "outputs": [],
   "source": [
    "for attitude in attitudes:\n",
    "    negative_score[attitude] = (total_negative_score_after[attitude]-total_negative_score_before[attitude])/10"
   ]
  },
  {
   "cell_type": "code",
   "execution_count": null,
   "id": "11ed790b-ef75-4f19-8ebb-4ba01e58e0b0",
   "metadata": {},
   "outputs": [],
   "source": [
    "print(negative_score)"
   ]
  }
 ],
 "metadata": {
  "kernelspec": {
   "display_name": "Python 3 (ipykernel)",
   "language": "python",
   "name": "python3"
  },
  "language_info": {
   "codemirror_mode": {
    "name": "ipython",
    "version": 3
   },
   "file_extension": ".py",
   "mimetype": "text/x-python",
   "name": "python",
   "nbconvert_exporter": "python",
   "pygments_lexer": "ipython3",
   "version": "3.10.16"
  }
 },
 "nbformat": 4,
 "nbformat_minor": 5
}
