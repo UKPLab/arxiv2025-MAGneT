{
 "cells": [
  {
   "cell_type": "code",
   "execution_count": 1,
   "id": "2766b09f-d04a-49d6-be80-5c9c69abfb9f",
   "metadata": {},
   "outputs": [],
   "source": [
    "import json\n",
    "import os"
   ]
  },
  {
   "cell_type": "code",
   "execution_count": null,
   "id": "a5ff16b0-d82f-46a5-9844-0b117d187085",
   "metadata": {},
   "outputs": [],
   "source": [
    "folder_path = 'path_to_output_directory'"
   ]
  },
  {
   "cell_type": "code",
   "execution_count": 3,
   "id": "8988cdb1-05c9-4eb3-9c46-16a351696e95",
   "metadata": {},
   "outputs": [],
   "source": [
    "ctrs_list = [\"general_1_understanding\", \"general_2_interpersonal_effectiveness\", \"general_3_collaboration\", \"CBT_1_guided_discovery\", \"CBT_2_focus\", \"CBT_3_strategy\"]"
   ]
  },
  {
   "cell_type": "code",
   "execution_count": null,
   "id": "0c915351-f0cb-4010-8c53-a9ef5fc5d0ef",
   "metadata": {},
   "outputs": [],
   "source": [
    "for j in ctrs_list:\n",
    "    total_rating = 0\n",
    "    count = 0\n",
    "    for filename in os.listdir(folder_path):\n",
    "        if filename.endswith('.json'):\n",
    "            file_path = os.path.join(folder_path, filename)\n",
    "            with open(file_path, 'r', encoding='utf-8') as f:\n",
    "                json_data = json.load(f)\n",
    "            total_rating = total_rating + json_data[j]\n",
    "            count = count + 1\n",
    "    avg_rating = total_rating/count\n",
    "    print(j + \":\")\n",
    "    print(avg_rating)"
   ]
  }
 ],
 "metadata": {
  "kernelspec": {
   "display_name": "Python 3 (ipykernel)",
   "language": "python",
   "name": "python3"
  },
  "language_info": {
   "codemirror_mode": {
    "name": "ipython",
    "version": 3
   },
   "file_extension": ".py",
   "mimetype": "text/x-python",
   "name": "python",
   "nbconvert_exporter": "python",
   "pygments_lexer": "ipython3",
   "version": "3.10.16"
  }
 },
 "nbformat": 4,
 "nbformat_minor": 5
}
