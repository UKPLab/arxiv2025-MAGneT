{
 "cells": [
  {
   "cell_type": "code",
   "execution_count": 1,
   "id": "52c560f8-f1cb-4dc9-843e-ee84a743cd35",
   "metadata": {},
   "outputs": [],
   "source": [
    "import json\n",
    "import os"
   ]
  },
  {
   "cell_type": "code",
   "execution_count": null,
   "id": "65f8c0f2-1282-430a-bb26-9c869a444254",
   "metadata": {},
   "outputs": [],
   "source": [
    "folder_path = 'path_to_output_directory'"
   ]
  },
  {
   "cell_type": "code",
   "execution_count": 3,
   "id": "4400b69d-56fd-47e5-be06-de31c3c69b13",
   "metadata": {},
   "outputs": [],
   "source": [
    "total_cost = 0"
   ]
  },
  {
   "cell_type": "code",
   "execution_count": 4,
   "id": "749b70ad-b89f-49ec-b628-d18cf483a6a6",
   "metadata": {},
   "outputs": [],
   "source": [
    "for filename in os.listdir(folder_path):\n",
    "    if filename.endswith('.json'):\n",
    "        file_path = os.path.join(folder_path, filename)\n",
    "        with open(file_path, 'r', encoding='utf-8') as f:\n",
    "            json_data = json.load(f)\n",
    "        total_cost = total_cost + json_data[\"cost\"]"
   ]
  },
  {
   "cell_type": "code",
   "execution_count": null,
   "id": "31995613-3665-4e6b-a2e7-f4e9603d1b12",
   "metadata": {},
   "outputs": [],
   "source": [
    "print(total_cost)"
   ]
  }
 ],
 "metadata": {
  "kernelspec": {
   "display_name": "Python 3 (ipykernel)",
   "language": "python",
   "name": "python3"
  },
  "language_info": {
   "codemirror_mode": {
    "name": "ipython",
    "version": 3
   },
   "file_extension": ".py",
   "mimetype": "text/x-python",
   "name": "python",
   "nbconvert_exporter": "python",
   "pygments_lexer": "ipython3",
   "version": "3.10.16"
  }
 },
 "nbformat": 4,
 "nbformat_minor": 5
}
