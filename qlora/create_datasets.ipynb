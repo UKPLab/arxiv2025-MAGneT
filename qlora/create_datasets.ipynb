{
 "cells": [
  {
   "cell_type": "code",
   "execution_count": 1,
   "id": "312affb3-8bd1-438f-b272-e2675a248681",
   "metadata": {},
   "outputs": [],
   "source": [
    "import os\n",
    "import json\n",
    "import csv\n",
    "from pathlib import Path"
   ]
  },
  {
   "cell_type": "code",
   "execution_count": 2,
   "id": "8c62f889-6e3b-4769-bf1f-5ab3dce0b6b0",
   "metadata": {},
   "outputs": [],
   "source": [
    "def generate_history(idx,history):\n",
    "    history_idx = history[:idx]\n",
    "    history_text = '\\n'.join(\n",
    "            [\n",
    "                f\"{message['role'].capitalize()}: {message['message']}\"\n",
    "                for message in history_idx\n",
    "            ]\n",
    "    )\n",
    "\n",
    "    return history_text"
   ]
  },
  {
   "cell_type": "code",
   "execution_count": 3,
   "id": "546a8872-3277-4da9-9523-1441ca2847ec",
   "metadata": {},
   "outputs": [],
   "source": [
    "output_dir = Path(\"datasets/\")\n",
    "output_dir.mkdir(parents=True, exist_ok=True)"
   ]
  },
  {
   "cell_type": "markdown",
   "id": "57762831-975d-4a9b-9eaa-57def7435854",
   "metadata": {},
   "source": [
    "# MASCS-Gen"
   ]
  },
  {
   "cell_type": "code",
   "execution_count": 4,
   "id": "423ebf7c-fcba-4687-a85c-62600cfbd88c",
   "metadata": {},
   "outputs": [],
   "source": [
    "final_dict = {}"
   ]
  },
  {
   "cell_type": "code",
   "execution_count": 5,
   "id": "6b2b699c-1a5b-408f-870d-ee55296c4edb",
   "metadata": {},
   "outputs": [],
   "source": [
    "final_dict[\"data\"] = []"
   ]
  },
  {
   "cell_type": "code",
   "execution_count": null,
   "id": "b3430f91-679d-4cf4-b606-52dd52dc8b81",
   "metadata": {
    "scrolled": true
   },
   "outputs": [],
   "source": [
    "for i in range(1,271):\n",
    "    if (\"session_\" + str(i) + \".json\") in os.listdir(\"path_to_data_generated_through_mascs_gen\"):\n",
    "        with open(\"path_to_data_generated_through_mascs_gen/session_\" + str(i) + \".json\") as json_file:\n",
    "            json_data = json.load(json_file)\n",
    "        for x in range(2,len(json_data[\"history\"]),2):\n",
    "            final_dict[\"data\"].append({\"history\":generate_history(x,json_data[\"history\"]), \"response\":json_data[\"history\"][x][\"message\"],\"client_information\":json_data['example']['AI_counselor']['CBT']['client_information'], \"reason_counseling\":json_data['example']['AI_counselor']['CBT']['reason_counseling']})"
   ]
  },
  {
   "cell_type": "code",
   "execution_count": 7,
   "id": "e1dfaf1a-9d39-40cc-bb12-66a9f20a572a",
   "metadata": {},
   "outputs": [],
   "source": [
    "with open('datasets/mascs-train.json', 'w') as fp:\n",
    "    json.dump(final_dict, fp)"
   ]
  },
  {
   "cell_type": "code",
   "execution_count": 8,
   "id": "90b15656-dd7f-4b43-986b-05134ef4df21",
   "metadata": {},
   "outputs": [],
   "source": [
    "final_dict_val = {}"
   ]
  },
  {
   "cell_type": "code",
   "execution_count": 9,
   "id": "31eb4ed3-14fc-4cbd-9521-c7fec01f0a2d",
   "metadata": {},
   "outputs": [],
   "source": [
    "final_dict_val[\"data\"] = []"
   ]
  },
  {
   "cell_type": "code",
   "execution_count": null,
   "id": "c0ad7c17-1fc9-414e-8fbc-7fbf4c53775f",
   "metadata": {
    "scrolled": true
   },
   "outputs": [],
   "source": [
    "for i in range(271,301):\n",
    "    if (\"session_\" + str(i) + \".json\") in os.listdir(\"path_to_data_generated_through_mascs_gen\"):\n",
    "        with open(\"path_to_data_generated_through_mascs_gen/session_\" + str(i) + \".json\") as json_file:\n",
    "            json_data = json.load(json_file)\n",
    "        for x in range(2,len(json_data[\"history\"]),2):\n",
    "            final_dict_val[\"data\"].append({\"history\":generate_history(x,json_data[\"history\"]), \"response\":json_data[\"history\"][x][\"message\"],\"client_information\":json_data['example']['AI_counselor']['CBT']['client_information'], \"reason_counseling\":json_data['example']['AI_counselor']['CBT']['reason_counseling']})"
   ]
  },
  {
   "cell_type": "code",
   "execution_count": 11,
   "id": "81302e7a-69cb-4e8c-b285-977baff93bc3",
   "metadata": {},
   "outputs": [],
   "source": [
    "with open('datasets/mascs-val.json', 'w') as fp:\n",
    "    json.dump(final_dict_val, fp)"
   ]
  },
  {
   "cell_type": "markdown",
   "id": "06cb140a-71f6-4edd-8c36-917c2903a75f",
   "metadata": {},
   "source": [
    "# CACTUS"
   ]
  },
  {
   "cell_type": "code",
   "execution_count": null,
   "id": "a2d6a201-1a5a-4222-ae0b-479a8e037641",
   "metadata": {},
   "outputs": [],
   "source": [
    "final_dict = {}"
   ]
  },
  {
   "cell_type": "code",
   "execution_count": null,
   "id": "c2968652-88e0-429d-b1d2-82893e1742e7",
   "metadata": {},
   "outputs": [],
   "source": [
    "final_dict[\"data\"] = []"
   ]
  },
  {
   "cell_type": "code",
   "execution_count": null,
   "id": "30c31542-cf4f-4563-ab8d-57fb30c72b43",
   "metadata": {},
   "outputs": [],
   "source": [
    "for i in range(1,271):\n",
    "    if (\"session_\" + str(i) + \".json\") in os.listdir(\"path_to_data_generated_through_cactus\"):\n",
    "        with open(\"path_to_data_generated_through_cactus/session_\" + str(i) + \".json\") as json_file:\n",
    "            json_data = json.load(json_file)\n",
    "        for x in range(2,len(json_data[\"history\"]),2):\n",
    "            final_dict[\"data\"].append({\"history\":generate_history(x,json_data[\"history\"]), \"response\":json_data[\"history\"][x][\"message\"],\"client_information\":json_data['example']['AI_counselor']['CBT']['client_information'], \"reason_counseling\":json_data['example']['AI_counselor']['CBT']['reason_counseling']})"
   ]
  },
  {
   "cell_type": "code",
   "execution_count": null,
   "id": "38fe07a6-413f-41f5-b9f2-7d6794be968f",
   "metadata": {},
   "outputs": [],
   "source": [
    "with open('datasets/cactus-train.json', 'w') as fp:\n",
    "    json.dump(final_dict, fp)"
   ]
  },
  {
   "cell_type": "code",
   "execution_count": null,
   "id": "d9736e66-bdcf-483c-8c94-b0e879a9ac9f",
   "metadata": {},
   "outputs": [],
   "source": [
    "final_dict_val = {}"
   ]
  },
  {
   "cell_type": "code",
   "execution_count": null,
   "id": "18a6d611-e1da-4790-922d-2c4943036518",
   "metadata": {},
   "outputs": [],
   "source": [
    "final_dict_val[\"data\"] = []"
   ]
  },
  {
   "cell_type": "code",
   "execution_count": null,
   "id": "b47002a7-f674-47a7-bb66-fbca6c53fd86",
   "metadata": {},
   "outputs": [],
   "source": [
    "for i in range(271,301):\n",
    "    if (\"session_\" + str(i) + \".json\") in os.listdir(\"path_to_data_generated_through_cactus\"):\n",
    "        with open(\"path_to_data_generated_through_cactus/session_\" + str(i) + \".json\") as json_file:\n",
    "            json_data = json.load(json_file)\n",
    "        for x in range(2,len(json_data[\"history\"]),2):\n",
    "            final_dict_val[\"data\"].append({\"history\":generate_history(x,json_data[\"history\"]), \"response\":json_data[\"history\"][x][\"message\"],\"client_information\":json_data['example']['AI_counselor']['CBT']['client_information'], \"reason_counseling\":json_data['example']['AI_counselor']['CBT']['reason_counseling']})"
   ]
  },
  {
   "cell_type": "code",
   "execution_count": null,
   "id": "9a4fe8eb-24a8-496e-832b-4293bd3c3676",
   "metadata": {},
   "outputs": [],
   "source": [
    "with open('datasets/cactus-val.json', 'w') as fp:\n",
    "    json.dump(final_dict_val, fp)"
   ]
  },
  {
   "cell_type": "markdown",
   "id": "bf4e34ee-2d5a-426b-b551-946db9881c22",
   "metadata": {},
   "source": [
    "# Psych8k"
   ]
  },
  {
   "cell_type": "code",
   "execution_count": null,
   "id": "94e9e427-a58c-4795-9ede-8094f80e413e",
   "metadata": {},
   "outputs": [],
   "source": [
    "final_dict = {}"
   ]
  },
  {
   "cell_type": "code",
   "execution_count": null,
   "id": "b0f21938-6c68-45a4-8d39-a295dcaa0fce",
   "metadata": {},
   "outputs": [],
   "source": [
    "final_dict[\"data\"] = []"
   ]
  },
  {
   "cell_type": "code",
   "execution_count": null,
   "id": "0a4911bb-c8eb-424c-85bc-0434007693d8",
   "metadata": {},
   "outputs": [],
   "source": [
    "for i in range(1,271):\n",
    "    if (\"session_\" + str(i) + \".json\") in os.listdir(\"path_to_data_generated_through_psych8k\"):\n",
    "        with open(\"path_to_data_generated_through_psych8k/session_\" + str(i) + \".json\") as json_file:\n",
    "            json_data = json.load(json_file)\n",
    "        for x in range(2,len(json_data[\"history\"]),2):\n",
    "            final_dict[\"data\"].append({\"history\":generate_history(x,json_data[\"history\"]), \"response\":json_data[\"history\"][x][\"message\"],\"client_information\":json_data['example']['AI_counselor']['CBT']['client_information'], \"reason_counseling\":json_data['example']['AI_counselor']['CBT']['reason_counseling']})"
   ]
  },
  {
   "cell_type": "code",
   "execution_count": null,
   "id": "a887d4f0-f762-4978-9c5e-7f840917554a",
   "metadata": {},
   "outputs": [],
   "source": [
    "with open('datasets/psych8k-train.json', 'w') as fp:\n",
    "    json.dump(final_dict, fp)"
   ]
  },
  {
   "cell_type": "code",
   "execution_count": null,
   "id": "02772f39-c89e-4933-9802-a3773a04efa6",
   "metadata": {},
   "outputs": [],
   "source": [
    "final_dict_val = {}"
   ]
  },
  {
   "cell_type": "code",
   "execution_count": null,
   "id": "0847546e-ce1f-4a5e-bc65-e8b037d5c2c7",
   "metadata": {},
   "outputs": [],
   "source": [
    "final_dict_val[\"data\"] = []"
   ]
  },
  {
   "cell_type": "code",
   "execution_count": null,
   "id": "d78d56a5-a62a-4e3a-a3ff-86099bf72392",
   "metadata": {},
   "outputs": [],
   "source": [
    "for i in range(271,301):\n",
    "    if (\"session_\" + str(i) + \".json\") in os.listdir(\"path_to_data_generated_through_psych8k\"):\n",
    "        with open(\"path_to_data_generated_through_psych8k/session_\" + str(i) + \".json\") as json_file:\n",
    "            json_data = json.load(json_file)\n",
    "        for x in range(2,len(json_data[\"history\"]),2):\n",
    "            final_dict_val[\"data\"].append({\"history\":generate_history(x,json_data[\"history\"]), \"response\":json_data[\"history\"][x][\"message\"],\"client_information\":json_data['example']['AI_counselor']['CBT']['client_information'], \"reason_counseling\":json_data['example']['AI_counselor']['CBT']['reason_counseling']})"
   ]
  },
  {
   "cell_type": "code",
   "execution_count": null,
   "id": "c8959018-4456-4fa1-adb0-5d254cb6c5f0",
   "metadata": {},
   "outputs": [],
   "source": [
    "with open('datasets/psych8k-val.json', 'w') as fp:\n",
    "    json.dump(final_dict_val, fp)"
   ]
  }
 ],
 "metadata": {
  "kernelspec": {
   "display_name": "Python 3 (ipykernel)",
   "language": "python",
   "name": "python3"
  },
  "language_info": {
   "codemirror_mode": {
    "name": "ipython",
    "version": 3
   },
   "file_extension": ".py",
   "mimetype": "text/x-python",
   "name": "python",
   "nbconvert_exporter": "python",
   "pygments_lexer": "ipython3",
   "version": "3.10.16"
  }
 },
 "nbformat": 4,
 "nbformat_minor": 5
}
